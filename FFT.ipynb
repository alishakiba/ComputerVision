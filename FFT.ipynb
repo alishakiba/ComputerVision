{
 "cells": [
  {
   "cell_type": "markdown",
   "metadata": {},
   "source": [
    "Forward Discrete Fourier Transform (DFT):\n",
    "$$\n",
    "    F(u) = \\sum_{x=0}^{M-1} f(x) e^{-j2\\pi ux / M}, \n",
    "$$\n",
    "for $u =0,1,\\ldots,M-1$."
   ]
  },
  {
   "cell_type": "markdown",
   "metadata": {},
   "source": [
    "Inverse Discrete Fourier Transform (I-DFT):\n",
    "$$\n",
    "    f(x) = \\sum_{u=0}^{M-1} F(u) e^{j2\\pi ux / M}, \n",
    "$$\n",
    "for $x =0,1,\\ldots,M-1$."
   ]
  },
  {
   "cell_type": "markdown",
   "metadata": {},
   "source": [
    "$f(x) \\rightarrow F(u)$ is equivalent to this matrix-vector $F = (F(0), \\ldots, F(M-1))^T = A \\times (f(0), \\ldots, f(M-1))^T$."
   ]
  },
  {
   "cell_type": "code",
   "execution_count": 1,
   "metadata": {},
   "outputs": [],
   "source": [
    "import numpy as np"
   ]
  },
  {
   "cell_type": "code",
   "execution_count": 2,
   "metadata": {},
   "outputs": [],
   "source": [
    "def DFT(f):\n",
    "    f = np.asarray(f, dtype=np.float)\n",
    "    M = f.shape[0]\n",
    "    x = np.arange(M)\n",
    "    u = np.arange(M)\n",
    "    A = np.exp(-1j * 2 * np.pi * np.vstack([u for i in range(M)]).T * x / M)\n",
    "    F = A @ f\n",
    "    return F"
   ]
  },
  {
   "cell_type": "code",
   "execution_count": 3,
   "metadata": {},
   "outputs": [
    {
     "data": {
      "text/plain": [
       "array([0, 1, 2, 3, 4, 5, 6, 7, 8, 9])"
      ]
     },
     "execution_count": 3,
     "metadata": {},
     "output_type": "execute_result"
    }
   ],
   "source": [
    "f = np.arange(10)\n",
    "f"
   ]
  },
  {
   "cell_type": "code",
   "execution_count": 4,
   "metadata": {},
   "outputs": [
    {
     "data": {
      "text/plain": [
       "array([45.+0.00000000e+00j, -5.+1.53884177e+01j, -5.+6.88190960e+00j,\n",
       "       -5.+3.63271264e+00j, -5.+1.62459848e+00j, -5.+3.53452967e-14j,\n",
       "       -5.-1.62459848e+00j, -5.-3.63271264e+00j, -5.-6.88190960e+00j,\n",
       "       -5.-1.53884177e+01j])"
      ]
     },
     "execution_count": 4,
     "metadata": {},
     "output_type": "execute_result"
    }
   ],
   "source": [
    "F_dft = DFT(f)\n",
    "F_dft"
   ]
  },
  {
   "cell_type": "code",
   "execution_count": 5,
   "metadata": {},
   "outputs": [
    {
     "data": {
      "text/plain": [
       "array([45. +0.j        , -5.+15.38841769j, -5. +6.8819096j ,\n",
       "       -5. +3.63271264j, -5. +1.62459848j, -5. +0.j        ,\n",
       "       -5. -1.62459848j, -5. -3.63271264j, -5. -6.8819096j ,\n",
       "       -5.-15.38841769j])"
      ]
     },
     "execution_count": 5,
     "metadata": {},
     "output_type": "execute_result"
    }
   ],
   "source": [
    "F_fft = np.fft.fft(f)\n",
    "F_fft"
   ]
  },
  {
   "cell_type": "code",
   "execution_count": 6,
   "metadata": {},
   "outputs": [
    {
     "data": {
      "text/plain": [
       "True"
      ]
     },
     "execution_count": 6,
     "metadata": {},
     "output_type": "execute_result"
    }
   ],
   "source": [
    "np.allclose(F_fft, F_dft)"
   ]
  },
  {
   "cell_type": "code",
   "execution_count": 7,
   "metadata": {},
   "outputs": [],
   "source": [
    "f = np.arange(1024)"
   ]
  },
  {
   "cell_type": "code",
   "execution_count": 8,
   "metadata": {},
   "outputs": [
    {
     "name": "stdout",
     "output_type": "stream",
     "text": [
      "98.1 ms ± 8.5 ms per loop (mean ± std. dev. of 7 runs, 10 loops each)\n"
     ]
    }
   ],
   "source": [
    "%timeit DFT(f)"
   ]
  },
  {
   "cell_type": "code",
   "execution_count": 9,
   "metadata": {},
   "outputs": [
    {
     "name": "stdout",
     "output_type": "stream",
     "text": [
      "8.25 µs ± 91.2 ns per loop (mean ± std. dev. of 7 runs, 100000 loops each)\n"
     ]
    }
   ],
   "source": [
    "%timeit np.fft.fft(f)"
   ]
  },
  {
   "cell_type": "markdown",
   "metadata": {},
   "source": [
    "# Fast Fourier Transform"
   ]
  },
  {
   "cell_type": "markdown",
   "metadata": {},
   "source": [
    "Computing $F(u)=\\sum_{x=0}^{M-1} f(x) e^{-j2\\pi u x / M}$ is equivalent to matrix-vector $F = A \\times f$."
   ]
  },
  {
   "cell_type": "markdown",
   "metadata": {},
   "source": [
    "$F(u+M) = \\sum_{x=0}^{M-1} f(x) e^{\\frac{-j2\\pi (u+M) x}{M}}$\n",
    "\n",
    "$ = \\sum_{x=0}^{M-1} f(x) e^{\\frac{-j2\\pi u x}{M}} \\times e^{\\frac{-j2\\pi M x}{M}}$\n",
    "\n",
    "$ = \\sum_{x=0}^{M-1} f(x) e^{\\frac{-j2\\pi u x}{M}}$\n",
    "\n",
    "$ = F(u)$"
   ]
  },
  {
   "cell_type": "markdown",
   "metadata": {},
   "source": [
    "Similarly, we can show $F(u+iM) = F(u)$ for $i\\in\\mathbb{N} \\cup \\{0\\}$. We call this __symmetric property__."
   ]
  },
  {
   "cell_type": "markdown",
   "metadata": {},
   "source": [
    "$ F(u) = \\sum_{x=0}^{M-1} f(x) e^{\\frac{-j2\\pi u x}{M}}$\n",
    "\n",
    "$ = \\sum_{x=0}^{M/2-1} f(2x) e^{\\frac{-j2\\pi u (2x)}{M}} + $\n",
    "\n",
    "$ \\sum_{x=0}^{M/2-1} f(2x+1) e^{\\frac{-j2\\pi u (2x + 1)}{M}}$\n",
    "\n",
    "$ = \\sum_{x=0}^{M/2-1} f(2x) e^{\\frac{-j2\\pi u x}{M/2}} + $\n",
    "\n",
    "$ e^{\\frac{-j2\\pi u}{M}}\\sum_{x=0}^{M/2-1} f(2x+1) e^{\\frac{-j2\\pi u x}{M/2}}$ "
   ]
  },
  {
   "cell_type": "code",
   "execution_count": 10,
   "metadata": {},
   "outputs": [],
   "source": [
    "def fft(f):\n",
    "    f = np.asarray(f, dtype=np.float)\n",
    "    M = f.shape[0]\n",
    "    if M % 2 > 0 or M < 32:\n",
    "        F = DFT(f)\n",
    "    else:\n",
    "        # using the divide & conquer approach to compute the DFT\n",
    "        F_even = fft(f[::2])\n",
    "        F_odd = fft(f[1::2])\n",
    "        \n",
    "        coeff = np.exp(-1j * 2 * np.pi * np.arange(M) / M)\n",
    "        F = np.concatenate((F_even + coeff[:M//2] * F_odd, F_even + coeff[M//2:] * F_odd))\n",
    "    return F"
   ]
  },
  {
   "cell_type": "code",
   "execution_count": 11,
   "metadata": {},
   "outputs": [],
   "source": [
    "f = np.arange(1024)"
   ]
  },
  {
   "cell_type": "code",
   "execution_count": 12,
   "metadata": {},
   "outputs": [
    {
     "name": "stdout",
     "output_type": "stream",
     "text": [
      "8.37 µs ± 82 ns per loop (mean ± std. dev. of 7 runs, 100000 loops each)\n"
     ]
    }
   ],
   "source": [
    "%timeit F_fft = np.fft.fft(f)"
   ]
  },
  {
   "cell_type": "code",
   "execution_count": 13,
   "metadata": {},
   "outputs": [
    {
     "name": "stdout",
     "output_type": "stream",
     "text": [
      "97.1 ms ± 3.61 ms per loop (mean ± std. dev. of 7 runs, 10 loops each)\n"
     ]
    }
   ],
   "source": [
    "%timeit F_dft = DFT(f)"
   ]
  },
  {
   "cell_type": "code",
   "execution_count": 14,
   "metadata": {},
   "outputs": [
    {
     "name": "stdout",
     "output_type": "stream",
     "text": [
      "7.89 ms ± 55 µs per loop (mean ± std. dev. of 7 runs, 100 loops each)\n"
     ]
    }
   ],
   "source": [
    "%timeit F_myfft = fft(f)"
   ]
  },
  {
   "cell_type": "code",
   "execution_count": null,
   "metadata": {},
   "outputs": [],
   "source": []
  }
 ],
 "metadata": {
  "kernelspec": {
   "display_name": "Python 3",
   "language": "python",
   "name": "python3"
  },
  "language_info": {
   "codemirror_mode": {
    "name": "ipython",
    "version": 3
   },
   "file_extension": ".py",
   "mimetype": "text/x-python",
   "name": "python",
   "nbconvert_exporter": "python",
   "pygments_lexer": "ipython3",
   "version": "3.7.4"
  }
 },
 "nbformat": 4,
 "nbformat_minor": 2
}
